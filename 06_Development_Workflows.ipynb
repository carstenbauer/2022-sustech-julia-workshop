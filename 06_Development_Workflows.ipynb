{
 "cells": [
  {
   "cell_type": "markdown",
   "id": "2792f38d-c4dd-4d09-af6d-ce6e5c0c7826",
   "metadata": {},
   "source": [
    "# Development Workflows"
   ]
  },
  {
   "cell_type": "markdown",
   "id": "05361055",
   "metadata": {},
   "source": [
    "## Traditional scripting workflow: Make changes and rerun\n",
    "\n",
    "* Demo"
   ]
  },
  {
   "cell_type": "markdown",
   "id": "edfa2840-8f20-4219-8240-d72eacc0ef6a",
   "metadata": {},
   "source": [
    "* Edit Julia script `script.jl` using any editor\n",
    "* Rerun the script from the commandline as\n",
    "  ```\n",
    "  $ julia script.jl\n",
    "  ```"
   ]
  },
  {
   "cell_type": "markdown",
   "id": "6dd699b6-5ea2-48fc-8362-0bc343743155",
   "metadata": {},
   "source": [
    "**Advantages**\n",
    "* Intuitive and simple\n",
    "* Any editor can be used\n",
    "\n",
    "**Disadvantages**\n",
    "* No interactivity\n",
    "* Code needs to be **recompiled every time**\n",
    "* *Note:* So far there is no cache for binary code between sessions ... although this is currently [work in progress](https://www.youtube.com/watch?v=GnsONc9DYg0).\n",
    "\n",
    "**Recommendation**\n",
    "* Only use this for simple changes and production runs (i.e. on an HPC cluster)"
   ]
  },
  {
   "cell_type": "markdown",
   "id": "29c1dfad",
   "metadata": {},
   "source": [
    "## Use Revise.jl: Iterative recompilation by keeping track of changes\n",
    "\n",
    "* Demo"
   ]
  },
  {
   "cell_type": "markdown",
   "id": "93a7975c-6fee-438f-a6ab-443b69cd2cf3",
   "metadata": {},
   "source": [
    "* Use the [Revise.jl](https://github.com/timholy/Revise.jl) package by Tim Holy:\n",
    "    * Open `julia`\n",
    "    * Load Revise: `using Revise` (or put it in `~/.julia/config/startup.jl`, see [here](https://timholy.github.io/Revise.jl/stable/config/#Using-Revise-by-default-1))\n",
    "    * Include your code with `includet(\"script.jl\")` instead of `include(\"script.jl\")`\n",
    "    * If your code is in package, `using MyPackage` will also enable this behavior.\n",
    "\n",
    "Now: Whenever you change something in `script.jl` (or the source code of your package), your Julia session will automatically keep track and *only recompile what is needed*."
   ]
  },
  {
   "cell_type": "markdown",
   "id": "321bc509-972c-4ad3-a63b-a9cfd0b426de",
   "metadata": {},
   "source": [
    "**Advantages**\n",
    "* Full interactivity\n",
    "* Changes become available almost immediately (interactive development)\n",
    "* Any editor can be used\n",
    "* Most editor plugins for Julia integrate with this mechanism in some way or another\n",
    "* Can be easily used over SSH or setup on a remote server\n",
    "\n",
    "**Disadvantages**\n",
    "* Has some [limitations](https://timholy.github.io/Revise.jl/stable/limitations/#) (e.g. changing `struct`s still requires a session restart)\n",
    "\n",
    "**Recommendation**\n",
    "* Use this if you like lightweight setups\n",
    "* E.g. I'm using this in combination with VIM."
   ]
  },
  {
   "cell_type": "markdown",
   "id": "7f6c47f6-0069-4d39-9107-1e66e25f6d3e",
   "metadata": {},
   "source": [
    "## Visual Studio Code: Recommended IDE for Julia"
   ]
  },
  {
   "cell_type": "markdown",
   "id": "54eba788-729b-48fb-868f-861226a51bee",
   "metadata": {},
   "source": [
    "<img src=\"img/vscode.png\" width=1200px>"
   ]
  },
  {
   "cell_type": "markdown",
   "id": "2e154286-1892-4ae0-a968-a2327ff3e726",
   "metadata": {},
   "source": [
    "(Image taken from https://www.julia-vscode.org/)\n",
    "\n",
    "* The [Julia extension](https://www.julia-vscode.org/) for VS Code has been actively maintained (and supported by Julia core devs) for many years.\n",
    "* Resources: [Julia in Visual Studio Code](https://code.visualstudio.com/docs/languages/julia)\n",
    "* Core features are [Keybindings:](https://www.julia-vscode.org/docs/stable/userguide/keybindings/) such as:\n",
    "    * Open integrated Julia REPL: `Alt-J Alt-O`\n",
    "    * Kill integrated Julia REPL: `Alt-J Alt-K`\n",
    "    * Restart integrated Julia REPL: `Alt-J Alt-R`\n",
    "    * Execute a line/block of code: `Shift+Enter` and `Ctrl-Enter` (similar to Jupyter notebooks)"
   ]
  },
  {
   "cell_type": "markdown",
   "id": "57bb0efc-e021-429b-8a76-a0dc82bdf6a4",
   "metadata": {},
   "source": [
    "**Advantages**\n",
    "* Interactivity\n",
    "* Integrated code completion, documentation, profiler output, debugging\n",
    "\n",
    "**Cons**\n",
    "* Not as lightweight\n",
    "* Can sometimes be a bit tricky to set up on remote servers\n",
    "* Integrated REPL takes noticeably longer to respond\n",
    "\n",
    "**Recommendation**\n",
    "* Use this if you are a GUI person"
   ]
  }
 ],
 "metadata": {
  "kernelspec": {
   "display_name": "Julia 1.8.1",
   "language": "julia",
   "name": "julia-1.8"
  },
  "language_info": {
   "file_extension": ".jl",
   "mimetype": "application/julia",
   "name": "julia",
   "version": "1.8.1"
  }
 },
 "nbformat": 4,
 "nbformat_minor": 5
}
